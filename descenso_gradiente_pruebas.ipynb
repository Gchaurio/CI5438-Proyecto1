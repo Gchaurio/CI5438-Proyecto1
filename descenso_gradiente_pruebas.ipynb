{
 "cells": [
  {
   "cell_type": "code",
   "execution_count": 1,
   "id": "c16c6e28-aa16-4f55-a4d1-9d88cc69f944",
   "metadata": {},
   "outputs": [],
   "source": [
    "import pandas as pd\n",
    "import numpy as np\n",
    "from sklearn.model_selection import train_test_split\n",
    "from Model import Model\n",
    "\n",
    "df = pd.read_csv(\"car_data_preprocessed.csv\")\n",
    "\n",
    "cs = ['Make', 'Year', 'Kilometer', 'Fuel Type', 'Transmission', 'Owner', 'Seating Capacity', 'Fuel Tank Capacity']\n",
    "# cols = list(df.columns.values)[1:]\n",
    "\n",
    "cols = []\n",
    "for i in list(df.columns)[1:]:\n",
    "    for j in cs:\n",
    "        if j in i:\n",
    "            cols.append(i)\n"
   ]
  },
  {
   "cell_type": "code",
   "execution_count": 2,
   "metadata": {},
   "outputs": [],
   "source": [
    "# training_df = pd.DataFrame(columns=['var_a', 'var_b', 'var_c'])\n",
    "\n",
    "# n_values = 1000\n",
    "# #Coeficientes que deberia predecir el modelo como vector de pesos\n",
    "# training_df['var_a'] = np.random.rand(n_values)\n",
    "# training_df['var_b'] = np.random.rand(n_values)\n",
    "# training_df['var_c'] = np.random.rand(n_values)"
   ]
  },
  {
   "cell_type": "code",
   "execution_count": 3,
   "metadata": {},
   "outputs": [],
   "source": [
    "# x_train, x_test, y_train, y_test = train_test_split(df[cols], df[\"Price\"], test_size=0.2, random_state=42)"
   ]
  },
  {
   "cell_type": "code",
   "execution_count": 7,
   "id": "9f4f7c96-21c9-429e-9de4-710be9a805a0",
   "metadata": {},
   "outputs": [],
   "source": [
    "m1 = Model(df, \"Price\", cols)\n",
    "m1.train(learning_rate=0.1,iters=25000)\n",
    "\n",
    "# m2 = Model(df, \"Price\", cols)\n",
    "# m2.train(iters=10000)\n"
   ]
  },
  {
   "cell_type": "code",
   "execution_count": 8,
   "metadata": {},
   "outputs": [
    {
     "name": "stdout",
     "output_type": "stream",
     "text": [
      "error relativo = 0.415276461174808\n"
     ]
    },
    {
     "name": "stderr",
     "output_type": "stream",
     "text": [
      "c:\\Users\\gabri\\OneDrive\\Documents\\VMBoxShared\\sep_dic_2023\\IA\\proyecto_1\\CI5438-Proyecto1\\Model.py:76: SettingWithCopyWarning: \n",
      "A value is trying to be set on a copy of a slice from a DataFrame.\n",
      "Try using .loc[row_indexer,col_indexer] = value instead\n",
      "\n",
      "See the caveats in the documentation: https://pandas.pydata.org/pandas-docs/stable/user_guide/indexing.html#returning-a-view-versus-a-copy\n",
      "  to_evaluate[\"t_ind\"] = 1.0\n"
     ]
    }
   ],
   "source": [
    "m1.evaluate(df.sample(700))"
   ]
  },
  {
   "cell_type": "code",
   "execution_count": 9,
   "metadata": {},
   "outputs": [
    {
     "name": "stdout",
     "output_type": "stream",
     "text": [
      "error relativo = 0.4703184769976404\n"
     ]
    }
   ],
   "source": [
    "m1.evaluate(pd.concat([m1.test_x,m1.test_y],axis=1))"
   ]
  }
 ],
 "metadata": {
  "kernelspec": {
   "display_name": "Python 3 (ipykernel)",
   "language": "python",
   "name": "python3"
  },
  "language_info": {
   "codemirror_mode": {
    "name": "ipython",
    "version": 3
   },
   "file_extension": ".py",
   "mimetype": "text/x-python",
   "name": "python",
   "nbconvert_exporter": "python",
   "pygments_lexer": "ipython3",
   "version": "3.11.1"
  }
 },
 "nbformat": 4,
 "nbformat_minor": 5
}
