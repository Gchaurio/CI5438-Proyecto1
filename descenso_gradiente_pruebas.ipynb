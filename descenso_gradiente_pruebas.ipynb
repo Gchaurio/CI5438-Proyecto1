{
 "cells": [
  {
   "cell_type": "code",
   "execution_count": 1,
   "id": "c16c6e28-aa16-4f55-a4d1-9d88cc69f944",
   "metadata": {},
   "outputs": [],
   "source": [
    "import pandas as pd\n",
    "import numpy as np\n",
    "\n",
    "df = pd.read_csv(\"car_data_preprocessed.csv\")\n",
    "\n",
    "cs = ['Make', 'Year', 'Kilometer', 'Fuel Type', 'Transmission', 'Owner', 'Seating Capacity', 'Fuel Tank Capacity']\n",
    "cols = []\n",
    "for i in list(df.columns)[1:]:\n",
    "    for j in cs:\n",
    "        if j in i:\n",
    "            cols.append(i)\n"
   ]
  },
  {
   "cell_type": "code",
   "execution_count": 2,
   "id": "9f4f7c96-21c9-429e-9de4-710be9a805a0",
   "metadata": {},
   "outputs": [],
   "source": [
    "from Model import Model\n",
    "\n",
    "m = Model(df, \"Price\", cols)\n",
    "m.train(iters=10000)"
   ]
  },
  {
   "cell_type": "code",
   "execution_count": 3,
   "id": "265cc020-f50c-4581-be90-4c16c16f004d",
   "metadata": {},
   "outputs": [
    {
     "data": {
      "text/plain": [
       "termino_indep            -1.442228\n",
       "Make_Honda                0.858525\n",
       "Make_Maruti Suzuki        0.863644\n",
       "Make_Hyundai              0.859142\n",
       "Make_Toyota               0.887513\n",
       "Make_Mercedes-Benz        0.919045\n",
       "Make_BMW                  0.928582\n",
       "Make_Skoda                0.866840\n",
       "Make_Nissan               0.880873\n",
       "Make_Renault              0.848638\n",
       "Make_Tata                 0.859905\n",
       "Make_Volkswagen           0.849948\n",
       "Make_Ford                 0.880051\n",
       "Make_Audi                 0.877612\n",
       "Make_Mahindra             0.897341\n",
       "Make_MG                   0.906752\n",
       "Make_Jeep                 0.901649\n",
       "Make_Porsche              1.001811\n",
       "Make_Kia                  0.916956\n",
       "Make_Land Rover           1.016542\n",
       "Make_Volvo                0.921853\n",
       "Make_Maserati             1.006334\n",
       "Make_Jaguar               0.917584\n",
       "Make_Isuzu                0.979129\n",
       "Make_Fiat                 0.966722\n",
       "Make_MINI                 0.936876\n",
       "Make_Ferrari              1.066372\n",
       "Make_Mitsubishi           0.951753\n",
       "Make_Datsun               0.941420\n",
       "Make_Lamborghini          1.039205\n",
       "Make_Chevrolet            0.905191\n",
       "Make_Ssangyong            0.959368\n",
       "Make_Rolls-Royce          1.055652\n",
       "Make_Lexus                0.888943\n",
       "Year                     -0.098788\n",
       "Kilometer                 0.741766\n",
       "Fuel Type_Petrol          0.483476\n",
       "Fuel Type_Diesel          0.468162\n",
       "Fuel Type_CNG             0.465157\n",
       "Fuel Type_LPG             0.725511\n",
       "Fuel Type_Electric        0.710918\n",
       "Fuel Type_CNG + CNG       0.946091\n",
       "Fuel Type_Hybrid          0.885292\n",
       "Fuel Type_Petrol + CNG    0.945944\n",
       "Fuel Type_Petrol + LPG    0.927221\n",
       "Transmission_Manual      -0.231616\n",
       "Transmission_Automatic   -0.210612\n",
       "Owner_First               0.437454\n",
       "Owner_Second              0.405104\n",
       "Owner_Third               0.397143\n",
       "Owner_Fourth              0.795035\n",
       "Owner_UnRegistered Car    0.585103\n",
       "Owner_4 or More           0.937934\n",
       "Seating Capacity         -0.133053\n",
       "Fuel Tank Capacity        0.133902\n",
       "dtype: float64"
      ]
     },
     "execution_count": 3,
     "metadata": {},
     "output_type": "execute_result"
    }
   ],
   "source": [
    "m.w"
   ]
  },
  {
   "cell_type": "code",
   "execution_count": null,
   "id": "955a9c13-e518-41ac-b9dc-196b58f3fd73",
   "metadata": {},
   "outputs": [],
   "source": []
  }
 ],
 "metadata": {
  "kernelspec": {
   "display_name": "Python 3 (ipykernel)",
   "language": "python",
   "name": "python3"
  },
  "language_info": {
   "codemirror_mode": {
    "name": "ipython",
    "version": 3
   },
   "file_extension": ".py",
   "mimetype": "text/x-python",
   "name": "python",
   "nbconvert_exporter": "python",
   "pygments_lexer": "ipython3",
   "version": "3.11.4"
  }
 },
 "nbformat": 4,
 "nbformat_minor": 5
}
