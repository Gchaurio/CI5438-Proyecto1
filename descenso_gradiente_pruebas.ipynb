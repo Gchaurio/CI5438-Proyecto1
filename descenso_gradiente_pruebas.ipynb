{
 "cells": [
  {
   "cell_type": "code",
   "execution_count": 27,
   "id": "c16c6e28-aa16-4f55-a4d1-9d88cc69f944",
   "metadata": {},
   "outputs": [],
   "source": [
    "import pandas as pd\n",
    "import numpy as np\n",
    "from sklearn.model_selection import train_test_split\n",
    "from Model import Model\n",
    "\n",
    "df1 = pd.read_csv(\"car_data_notna.csv\")\n",
    "df2 = pd.read_csv(\"car_data_fill_na.csv\")\n",
    "df3 = pd.read_csv(\"car_data_fill_na_no_outliers.csv\")\n",
    "df4 = pd.read_csv(\"car_data_notna_no_outliers.csv\")\n",
    "\n",
    "\n",
    "cs = ['Make', 'Year', 'Kilometer', 'Fuel Type', 'Transmission', 'Owner', 'Seating Capacity', 'Fuel Tank Capacity']\n",
    "# cols = list(df.columns.values)[1:]\n",
    "\n",
    "cols = []\n",
    "for i in list(df4.columns)[1:]:\n",
    "    for j in cs:\n",
    "        if j in i:\n",
    "            cols.append(i)\n",
    "            \n"
   ]
  },
  {
   "cell_type": "code",
   "execution_count": 28,
   "metadata": {},
   "outputs": [],
   "source": [
    "# training_df = pd.DataFrame(columns=['var_a', 'var_b', 'var_c'])\n",
    "\n",
    "# n_values = 1000\n",
    "# #Coeficientes que deberia predecir el modelo como vector de pesos\n",
    "# training_df['var_a'] = np.random.rand(n_values)\n",
    "# training_df['var_b'] = np.random.rand(n_values)\n",
    "# training_df['var_c'] = np.random.rand(n_values)"
   ]
  },
  {
   "cell_type": "code",
   "execution_count": 29,
   "metadata": {},
   "outputs": [],
   "source": [
    "# x_train, x_test, y_train, y_test = train_test_split(df[cols], df[\"Price\"], test_size=0.2, random_state=42)"
   ]
  },
  {
   "cell_type": "code",
   "execution_count": 30,
   "id": "9f4f7c96-21c9-429e-9de4-710be9a805a0",
   "metadata": {},
   "outputs": [
    {
     "name": "stdout",
     "output_type": "stream",
     "text": [
      "error relativo = 0.29940510598698894\n"
     ]
    }
   ],
   "source": [
    "m1 = Model(df4, \"Price\", cols)\n",
    "m1.train(learning_rate=0.01,iters=10000)\n",
    "\n",
    "# m2 = Model(df, \"Price\", cols)\n",
    "# m2.train(iters=10000)\n"
   ]
  },
  {
   "cell_type": "code",
   "execution_count": 31,
   "metadata": {},
   "outputs": [
    {
     "name": "stdout",
     "output_type": "stream",
     "text": [
      "error relativo = 0.2760996448691183\n"
     ]
    },
    {
     "name": "stderr",
     "output_type": "stream",
     "text": [
      "c:\\Users\\gabri\\OneDrive\\Documents\\VMBoxShared\\sep_dic_2023\\IA\\proyecto_1\\CI5438-Proyecto1\\Model.py:99: SettingWithCopyWarning: \n",
      "A value is trying to be set on a copy of a slice from a DataFrame.\n",
      "Try using .loc[row_indexer,col_indexer] = value instead\n",
      "\n",
      "See the caveats in the documentation: https://pandas.pydata.org/pandas-docs/stable/user_guide/indexing.html#returning-a-view-versus-a-copy\n",
      "  to_evaluate[\"t_ind\"] = 1.0\n"
     ]
    }
   ],
   "source": [
    "m1.evaluate(df4)"
   ]
  },
  {
   "cell_type": "code",
   "execution_count": 33,
   "metadata": {},
   "outputs": [
    {
     "name": "stdout",
     "output_type": "stream",
     "text": [
      "error relativo = 0.29940510598698894\n"
     ]
    }
   ],
   "source": [
    "m1.test()"
   ]
  },
  {
   "cell_type": "code",
   "execution_count": null,
   "metadata": {},
   "outputs": [],
   "source": [
    "r = m1.real_values\n",
    "rs = m1.results"
   ]
  },
  {
   "cell_type": "code",
   "execution_count": null,
   "metadata": {},
   "outputs": [],
   "source": []
  }
 ],
 "metadata": {
  "kernelspec": {
   "display_name": "Python 3 (ipykernel)",
   "language": "python",
   "name": "python3"
  },
  "language_info": {
   "codemirror_mode": {
    "name": "ipython",
    "version": 3
   },
   "file_extension": ".py",
   "mimetype": "text/x-python",
   "name": "python",
   "nbconvert_exporter": "python",
   "pygments_lexer": "ipython3",
   "version": "3.11.1"
  }
 },
 "nbformat": 4,
 "nbformat_minor": 5
}
